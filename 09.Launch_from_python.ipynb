{
 "cells": [
  {
   "cell_type": "code",
   "execution_count": 6,
   "metadata": {
    "collapsed": false
   },
   "outputs": [],
   "source": [
    "import os\n",
    "import subprocess"
   ]
  },
  {
   "cell_type": "markdown",
   "metadata": {},
   "source": [
    "# Launch program from python"
   ]
  },
  {
   "cell_type": "markdown",
   "metadata": {},
   "source": [
    "Old style (no posibility to get the output), blocking."
   ]
  },
  {
   "cell_type": "code",
   "execution_count": 7,
   "metadata": {
    "collapsed": false
   },
   "outputs": [
    {
     "data": {
      "text/plain": [
       "0"
      ]
     },
     "execution_count": 7,
     "metadata": {},
     "output_type": "execute_result"
    }
   ],
   "source": [
    "os.system('./myprogram.py {}'.format(5))"
   ]
  },
  {
   "cell_type": "markdown",
   "metadata": {},
   "source": [
    "New style (without the output), blocking:"
   ]
  },
  {
   "cell_type": "code",
   "execution_count": 8,
   "metadata": {
    "collapsed": false
   },
   "outputs": [
    {
     "data": {
      "text/plain": [
       "0"
      ]
     },
     "execution_count": 8,
     "metadata": {},
     "output_type": "execute_result"
    }
   ],
   "source": [
    "subprocess.call('./myprogram.py {}'.format(53), shell=True)"
   ]
  },
  {
   "cell_type": "markdown",
   "metadata": {},
   "source": [
    "We cannot get the output of the program we launched. If one wants to **get the output**, and work with it, more sophisticated tools are needed.\n",
    "\n",
    "Popen.communicate function interacts with process, sends data to stdin, read data from stdout and stderr, until end-of-file is reached. Ie, waits for process to terminate. (blocking)"
   ]
  },
  {
   "cell_type": "code",
   "execution_count": 9,
   "metadata": {
    "collapsed": false
   },
   "outputs": [
    {
     "name": "stdout",
     "output_type": "stream",
     "text": [
      "your input was 123\n",
      "finished\n",
      "\n"
     ]
    }
   ],
   "source": [
    "process = subprocess.Popen(['./myprogram.py', '123'], stdout=subprocess.PIPE)\n",
    "out, err = process.communicate()\n",
    "print(out)"
   ]
  },
  {
   "cell_type": "markdown",
   "metadata": {},
   "source": [
    "**Redirect the output to a file** just add stdout parameter to subprocess call"
   ]
  },
  {
   "cell_type": "code",
   "execution_count": 10,
   "metadata": {
    "collapsed": true
   },
   "outputs": [],
   "source": [
    "with open(\"data/blah.txt\", \"w\") as f:\n",
    "    subprocess.call(['./myprogram.py', '123'], stdout=f)"
   ]
  },
  {
   "cell_type": "markdown",
   "metadata": {},
   "source": [
    "Let's check the file contains the expected output"
   ]
  },
  {
   "cell_type": "code",
   "execution_count": 11,
   "metadata": {
    "collapsed": false
   },
   "outputs": [
    {
     "name": "stdout",
     "output_type": "stream",
     "text": [
      "['your input was 123\\n', 'finished\\n']\n"
     ]
    }
   ],
   "source": [
    "with open('data/blah.txt', 'r') as f:\n",
    "    print(f.readlines())"
   ]
  },
  {
   "cell_type": "markdown",
   "metadata": {},
   "source": [
    "**Using input files**"
   ]
  },
  {
   "cell_type": "code",
   "execution_count": 14,
   "metadata": {
    "collapsed": false
   },
   "outputs": [
    {
     "name": "stdout",
     "output_type": "stream",
     "text": [
      "your input was 2\r\n",
      "finished\r\n"
     ]
    }
   ],
   "source": [
    "with open('data/myoutput.out', 'w') as myoutput, open('data/myinput.in') as myinput:\n",
    "    p = subprocess.Popen(['./myprogram.py', '2'], stdin=myinput, stdout=myoutput)\n",
    "    p.wait()\n",
    "    myoutput.flush()\n",
    "    \n",
    "!cat data/myoutput.out"
   ]
  },
  {
   "cell_type": "markdown",
   "metadata": {},
   "source": [
    "## Launching programs"
   ]
  },
  {
   "cell_type": "code",
   "execution_count": 15,
   "metadata": {
    "collapsed": true
   },
   "outputs": [],
   "source": [
    "for i in xrange(10):\n",
    "    os.system('./myprogram.py {}'.format(i))"
   ]
  },
  {
   "cell_type": "code",
   "execution_count": 16,
   "metadata": {
    "collapsed": false
   },
   "outputs": [],
   "source": [
    "for i in xrange(10):\n",
    "    subprocess.call('./myprogram.py {}'.format(i), shell=True)"
   ]
  },
  {
   "cell_type": "code",
   "execution_count": 17,
   "metadata": {
    "collapsed": false
   },
   "outputs": [],
   "source": [
    "for i in range(10):\n",
    "    process = subprocess.Popen(['ls', '-a'], stdout=subprocess.PIPE)\n",
    "    out, err = process.communicate() # wait til it finishes (otherwise, problems with open/close file)\n",
    "    # print(out)"
   ]
  },
  {
   "cell_type": "code",
   "execution_count": 18,
   "metadata": {
    "collapsed": false
   },
   "outputs": [],
   "source": [
    "for i in range(10):\n",
    "    os.system('./myprogram.py {} > data/output_{}'.format(i, i))"
   ]
  },
  {
   "cell_type": "code",
   "execution_count": 22,
   "metadata": {
    "collapsed": false
   },
   "outputs": [
    {
     "name": "stdout",
     "output_type": "stream",
     "text": [
      "blah.txt     myinput.in    output_0  output_3  output_6  output_9\r\n",
      "eggs.csv     myoutput.out  output_1  output_4  output_7\r\n",
      "example.txt  names.csv\t   output_2  output_5  output_8\r\n"
     ]
    }
   ],
   "source": [
    "!ls  data\n",
    "# !rm o*"
   ]
  },
  {
   "cell_type": "markdown",
   "metadata": {
    "collapsed": true
   },
   "source": [
    "A **background** process is a computer process that runs behind the scenes (i.e., in the background) and without user intervention. From a Unix command line, a background process can be launched using the \"&\" operator in bash.\n",
    "\n",
    "When using os.system, as it reproduces the shell behaviour, & has to be used. Otherwise, spawnl can be used."
   ]
  },
  {
   "cell_type": "code",
   "execution_count": 20,
   "metadata": {
    "collapsed": false
   },
   "outputs": [],
   "source": [
    "for i in range(10):\n",
    "    subprocess.call('./myprogram.py {} > data/output_{} &'.format(i, i), shell=True)"
   ]
  },
  {
   "cell_type": "code",
   "execution_count": 21,
   "metadata": {
    "collapsed": true
   },
   "outputs": [],
   "source": [
    "for i in range(10):\n",
    "    os.system('./myprogram.py {} > data/output_{} &'.format(i, i))"
   ]
  }
 ],
 "metadata": {
  "anaconda-cloud": {},
  "kernelspec": {
   "display_name": "Python [conda env:masterviz]",
   "language": "python",
   "name": "conda-env-masterviz-py"
  },
  "language_info": {
   "codemirror_mode": {
    "name": "ipython",
    "version": 2
   },
   "file_extension": ".py",
   "mimetype": "text/x-python",
   "name": "python",
   "nbconvert_exporter": "python",
   "pygments_lexer": "ipython2",
   "version": "2.7.12"
  }
 },
 "nbformat": 4,
 "nbformat_minor": 1
}
