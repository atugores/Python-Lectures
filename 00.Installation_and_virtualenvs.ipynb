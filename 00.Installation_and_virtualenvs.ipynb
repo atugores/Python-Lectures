{
 "cells": [
  {
   "cell_type": "markdown",
   "metadata": {
    "nbpresent": {
     "id": "0ab7d10f-d03b-4185-9d6e-225fe24f7660"
    }
   },
   "source": [
    "# Python-Lectures"
   ]
  },
  {
   "cell_type": "markdown",
   "metadata": {
    "nbpresent": {
     "id": "5436ae23-8243-41b7-90fa-4ae2194d8e3d"
    }
   },
   "source": [
    "## Introduction\n",
    "\n",
    "Python is a modern, robust, high level programming language. It is very easy to pick up even if you are completely new to programming."
   ]
  },
  {
   "cell_type": "markdown",
   "metadata": {
    "nbpresent": {
     "id": "8ee8aca0-4626-42ed-a6fc-57521122bf58"
    }
   },
   "source": [
    "## Python Installation"
   ]
  },
  {
   "cell_type": "markdown",
   "metadata": {
    "nbpresent": {
     "id": "8d7e9088-d40a-47d4-8811-5d9d747e9194"
    }
   },
   "source": [
    "### 1. Official distribution\n",
    "\n",
    "Mac OS X and Linux comes pre installed with python. Windows users can download python from https://www.python.org/downloads/ .\n",
    "\n",
    "To install a package (for example jupyter) run,\n",
    "\n",
    "    $> pip install --user jupyter[all]\n",
    "    \n",
    "This will install all the necessary dependencies for the notebook, qtconsole, tests etc."
   ]
  },
  {
   "cell_type": "markdown",
   "metadata": {
    "nbpresent": {
     "id": "820d566f-c7de-4d42-b67c-1df197eb1b6f"
    }
   },
   "source": [
    "### 2. Unofficial distributions\n",
    "\n",
    "Installing all the necessary libraries might prove troublesome. Anaconda and Canopy comes pre packaged with all the necessary python libraries and also IPython."
   ]
  },
  {
   "cell_type": "markdown",
   "metadata": {
    "nbpresent": {
     "id": "049c5e56-e0a0-45c4-b99c-c35b975ad0de"
    }
   },
   "source": [
    "#### Anaconda [RECOMMENDED]\n",
    "\n",
    "Leading Open Data Science Platform Powered by Python\n",
    "\n",
    "Anaconda Distribution gives superpowers to people that change the world with high performance, cross-platform Python and R that includes the best innovative data science from open source. Using over 720 packages for data preparation, data analysis, data visualization, machine learning and interactive data science applications that deliver results - everything from discovering gravitational waves to creating new revenue channels. Data Scientists worldwide rely on the Anaconda Distribution for easy package, dependency and environment management."
   ]
  },
  {
   "cell_type": "markdown",
   "metadata": {
    "nbpresent": {
     "id": "add973be-18c6-4fa4-9fb4-b2a6e2064734"
    }
   },
   "source": [
    "\n",
    "Download Anaconda from https://www.continuum.io/downloads\n",
    "\n",
    "Anaconda is completely free and includes more than 700 python packages. Both python 2.7 and 3.5 options are available.\n"
   ]
  },
  {
   "cell_type": "markdown",
   "metadata": {
    "nbpresent": {
     "id": "5d51b254-8e35-41e8-b6ba-67fa6f88ebd6"
    }
   },
   "source": [
    "#### Canopy\n",
    "\n",
    "Download Canopy from https://store.enthought.com/downloads/#default\n",
    "\n",
    "Canopy has a premium version which offers 300+ python packages. But the free version works just fine. Canopy as of now supports only 2.7 but it comes with its own text editor and IPython environment."
   ]
  },
  {
   "cell_type": "markdown",
   "metadata": {
    "nbpresent": {
     "id": "fbc3bc7c-52ec-4557-9e8e-778a4e37c090"
    }
   },
   "source": [
    "## Virtual environments\n",
    "\n",
    "We will get you to install an extremely useful tool to help keep your coding environment tidy on your computer. It's possible to skip this step, but it's highly recommended. Starting with the best possible setup will save you a lot of trouble in the future!\n",
    "\n",
    "So, let's create a virtual environment (also called a virtualenv). Virtualenv will isolate your Python setup on a per-project basis."
   ]
  },
  {
   "cell_type": "markdown",
   "metadata": {
    "nbpresent": {
     "id": "3ca2a22c-8569-47c6-a61b-e17b805dce44"
    }
   },
   "source": [
    "### 1. Using Anaconda"
   ]
  },
  {
   "cell_type": "markdown",
   "metadata": {
    "nbpresent": {
     "id": "8d1374b7-810d-40df-a955-df62c2c98064"
    }
   },
   "source": [
    "### Create virtual environment\n",
    "Creating a virtualenv on both Linux and OS X is as simple as running\n",
    "\n",
    "    $> conda create -n myenv python\n",
    "myenv is the name of your virtualenv. You can use any other name, but stick to lowercase and use no spaces. It is also good idea to keep the name short as you'll be referencing it a lot."
   ]
  },
  {
   "cell_type": "markdown",
   "metadata": {
    "nbpresent": {
     "id": "7bf92dd6-e1fe-4014-a627-6547ec2a47d0"
    }
   },
   "source": [
    "### Using a virtual environment\n",
    "     $> source activate myenvironment\n",
    "You will know that you have virtualenv started when you see that the prompt in your console is prefixed with (myvenvironment)."
   ]
  },
  {
   "cell_type": "markdown",
   "metadata": {
    "nbpresent": {
     "id": "68f1026f-21d5-4176-81c9-874e9e21a511"
    }
   },
   "source": [
    "### Installing packages\n",
    "    $> conda install packagename\n",
    "    \n",
    "Example to install jupyter notebook\n",
    "    \n",
    "    $> conda install jupyter"
   ]
  },
  {
   "cell_type": "markdown",
   "metadata": {
    "nbpresent": {
     "id": "f794b7ee-adae-4688-b4b3-84ff7bf533a9"
    }
   },
   "source": [
    "### 2. Using the official distribution"
   ]
  },
  {
   "cell_type": "markdown",
   "metadata": {
    "nbpresent": {
     "id": "c2726afc-1bf8-4641-9bca-b7593e1c1687"
    }
   },
   "source": [
    "### Create virtual environment\n",
    "To create a virtualenv on both Linux and OS X you need to install virtualenv functionality:\n",
    "\n",
    "    $> pip install virtualenv\n",
    "    \n",
    "And then create the virtual environment\n",
    "\n",
    "    $> cd my_project_folder\n",
    "    $> virtualenv myvirtualenv\n",
    "\n",
    "myvirtualenv is the name of your virtualenv. You can use any other name, but stick to lowercase and use no spaces. It is also good idea to keep the name short as you'll be referencing it a lot."
   ]
  },
  {
   "cell_type": "markdown",
   "metadata": {
    "nbpresent": {
     "id": "f3e2c1a2-c2fb-4b63-92d7-79f1ce6b6862"
    }
   },
   "source": [
    "### Using a virtual environment\n",
    "    $> source myvirtualenv/bin/activate\n",
    "    \n",
    "You will know that you have virtualenv started when you see that the prompt in your console is prefixed with (myvirtualenv)."
   ]
  },
  {
   "cell_type": "markdown",
   "metadata": {
    "nbpresent": {
     "id": "56c40f5a-6ae4-4971-a294-434fc4301143"
    }
   },
   "source": [
    "### Installing packages\n",
    "    $> pip install packagename\n",
    "    \n",
    "Example to install jupyter notebook\n",
    "    \n",
    "    $> pip install jupyter"
   ]
  },
  {
   "cell_type": "markdown",
   "metadata": {
    "nbpresent": {
     "id": "97ba4f41-01ae-4bf4-90b1-cfdb3f1d885e"
    }
   },
   "source": [
    "## Launching Jupyter Notebook\n",
    "\n",
    "From the terminal, after activating the virtual environment:\n",
    "\n",
    "    $> jupyter notebook\n"
   ]
  },
  {
   "cell_type": "markdown",
   "metadata": {
    "nbpresent": {
     "id": "2c748366-de25-4bd4-90b9-5c2c7ecd79eb"
    }
   },
   "source": [
    "## How to learn from this resource?"
   ]
  },
  {
   "cell_type": "markdown",
   "metadata": {
    "nbpresent": {
     "id": "6d17a399-5c6f-468e-9478-6cfaa0dfb42c"
    }
   },
   "source": [
    "Download all the jupyter notebooks from this repository https://github.com/atugores/Python-Lectures\n",
    "\n",
    "Launch jupyter notebook from the folder which contains the notebooks. Open each one of them\n",
    "\n",
    "    Cell > All Output > Clear\n",
    "    \n",
    "This will clear all the outputs and now you can understand each statement and learn interactively."
   ]
  },
  {
   "cell_type": "markdown",
   "metadata": {
    "nbpresent": {
     "id": "bd5c3a22-2aeb-4f8a-bc84-25b6829368d6"
    }
   },
   "source": [
    "## License\n",
    "\n",
    "This work is licensed under the Creative Commons Attribution 3.0 Unported License. To view a copy of this license, visit http://creativecommons.org/licenses/by/3.0/"
   ]
  }
 ],
 "metadata": {
  "anaconda-cloud": {},
  "kernelspec": {
   "display_name": "Python [default]",
   "language": "python",
   "name": "python2"
  },
  "language_info": {
   "codemirror_mode": {
    "name": "ipython",
    "version": 2
   },
   "file_extension": ".py",
   "mimetype": "text/x-python",
   "name": "python",
   "nbconvert_exporter": "python",
   "pygments_lexer": "ipython2",
   "version": "2.7.12"
  },
  "nbpresent": {
   "slides": {
    "0072e559-96b5-4cd8-bc7d-4345c65d26d2": {
     "id": "0072e559-96b5-4cd8-bc7d-4345c65d26d2",
     "prev": "0599051d-9a73-4cb9-8c49-c9a662a991ad",
     "regions": {
      "b55e5da7-d51e-4938-8b09-dafccb78bec8": {
       "attrs": {
        "height": 0.8,
        "width": 0.8,
        "x": 0.1,
        "y": 0.1
       },
       "content": {
        "cell": "bd5c3a22-2aeb-4f8a-bc84-25b6829368d6",
        "part": "whole"
       },
       "id": "b55e5da7-d51e-4938-8b09-dafccb78bec8"
      }
     }
    },
    "0599051d-9a73-4cb9-8c49-c9a662a991ad": {
     "id": "0599051d-9a73-4cb9-8c49-c9a662a991ad",
     "prev": "7f3b6a80-c871-4d19-aa7b-a1d2ab44eaf0",
     "regions": {
      "a3013eb5-fd1f-42cf-940f-468dfe238855": {
       "attrs": {
        "height": 0.8,
        "width": 0.8,
        "x": 0.1,
        "y": 0.1
       },
       "content": {
        "cell": "6d17a399-5c6f-468e-9478-6cfaa0dfb42c",
        "part": "whole"
       },
       "id": "a3013eb5-fd1f-42cf-940f-468dfe238855"
      }
     }
    },
    "2cfed832-51ec-47fa-acd6-03abb1ce1e11": {
     "id": "2cfed832-51ec-47fa-acd6-03abb1ce1e11",
     "prev": "dcafeb1c-7f4d-48fc-90d3-64c4257bf56c",
     "regions": {
      "72a03bf7-bd6f-473a-82d8-04efacb0997b": {
       "attrs": {
        "height": 0.8,
        "width": 0.8,
        "x": 0.1,
        "y": 0.1
       },
       "content": {
        "cell": "f3e2c1a2-c2fb-4b63-92d7-79f1ce6b6862",
        "part": "whole"
       },
       "id": "72a03bf7-bd6f-473a-82d8-04efacb0997b"
      }
     }
    },
    "3a94a273-c319-4df4-8c6d-8a542f1e68eb": {
     "id": "3a94a273-c319-4df4-8c6d-8a542f1e68eb",
     "prev": "49fefa74-f97e-4877-a497-c667c01ebbb0",
     "regions": {
      "5fc9d6e0-a40c-4d39-ae76-0560b80c9ed0": {
       "attrs": {
        "height": 0.8,
        "width": 0.8,
        "x": 0.1,
        "y": 0.1
       },
       "content": {
        "cell": "3ca2a22c-8569-47c6-a61b-e17b805dce44",
        "part": "whole"
       },
       "id": "5fc9d6e0-a40c-4d39-ae76-0560b80c9ed0"
      }
     }
    },
    "3c9e54c0-8239-464a-80e3-ab7547662178": {
     "id": "3c9e54c0-8239-464a-80e3-ab7547662178",
     "prev": "9f1a49d9-bcb1-4fcb-ac33-82339f40418f",
     "regions": {
      "307f5607-88d0-4dfe-95b4-b89d1e72dc23": {
       "attrs": {
        "height": 0.8,
        "width": 0.8,
        "x": 0.1,
        "y": 0.1
       },
       "content": {
        "cell": "97ba4f41-01ae-4bf4-90b1-cfdb3f1d885e",
        "part": "whole"
       },
       "id": "307f5607-88d0-4dfe-95b4-b89d1e72dc23"
      }
     }
    },
    "49fefa74-f97e-4877-a497-c667c01ebbb0": {
     "id": "49fefa74-f97e-4877-a497-c667c01ebbb0",
     "prev": "bcac91ac-a229-43b5-bbcb-6996c69bd0b0",
     "regions": {
      "35167d55-f860-49c5-b42e-a2db93c4c16b": {
       "attrs": {
        "height": 0.8,
        "width": 0.8,
        "x": 0.1,
        "y": 0.1
       },
       "content": {
        "cell": "fbc3bc7c-52ec-4557-9e8e-778a4e37c090",
        "part": "whole"
       },
       "id": "35167d55-f860-49c5-b42e-a2db93c4c16b"
      }
     }
    },
    "4d0e0b6e-d429-4d7e-8292-ace77773e512": {
     "id": "4d0e0b6e-d429-4d7e-8292-ace77773e512",
     "prev": "e1e16051-48fc-4923-b236-62e41c1120c3",
     "regions": {
      "bf5e83ec-4071-4b7e-8870-8b78e42bd35e": {
       "attrs": {
        "height": 0.8,
        "width": 0.8,
        "x": 0.1,
        "y": 0.1
       },
       "content": {
        "cell": "f794b7ee-adae-4688-b4b3-84ff7bf533a9",
        "part": "whole"
       },
       "id": "bf5e83ec-4071-4b7e-8870-8b78e42bd35e"
      }
     }
    },
    "6cc9323d-1b67-452f-9e3f-04d3f41bf5ae": {
     "id": "6cc9323d-1b67-452f-9e3f-04d3f41bf5ae",
     "prev": null,
     "regions": {}
    },
    "6ddae348-0330-4fea-81b4-9086d85a34d2": {
     "id": "6ddae348-0330-4fea-81b4-9086d85a34d2",
     "prev": "e870ad6e-92a7-4bb3-93f5-23a12e1e13dd",
     "regions": {
      "171629b3-d394-433f-98ce-a2476744b4ca": {
       "attrs": {
        "height": 0.8,
        "width": 0.8,
        "x": 0.1,
        "y": 0.1
       },
       "content": {
        "cell": "8d7e9088-d40a-47d4-8811-5d9d747e9194",
        "part": "whole"
       },
       "id": "171629b3-d394-433f-98ce-a2476744b4ca"
      }
     }
    },
    "7f3b6a80-c871-4d19-aa7b-a1d2ab44eaf0": {
     "id": "7f3b6a80-c871-4d19-aa7b-a1d2ab44eaf0",
     "prev": "3c9e54c0-8239-464a-80e3-ab7547662178",
     "regions": {
      "d8c3516b-8ff7-4081-b7ab-a987bfdda78d": {
       "attrs": {
        "height": 0.8,
        "width": 0.8,
        "x": 0.1,
        "y": 0.1
       },
       "content": {
        "cell": "2c748366-de25-4bd4-90b9-5c2c7ecd79eb",
        "part": "whole"
       },
       "id": "d8c3516b-8ff7-4081-b7ab-a987bfdda78d"
      }
     }
    },
    "853d8e25-f41d-4fb3-93b4-ac3008659d9a": {
     "id": "853d8e25-f41d-4fb3-93b4-ac3008659d9a",
     "prev": "e7c8e9ab-eb89-4102-a4b1-baf94d4f1c9a",
     "regions": {
      "c7539a71-2893-462f-a943-a83a4fdc5aca": {
       "attrs": {
        "height": 0.8,
        "width": 0.8,
        "x": 0.1,
        "y": 0.1
       },
       "content": {
        "cell": "7bf92dd6-e1fe-4014-a627-6547ec2a47d0",
        "part": "whole"
       },
       "id": "c7539a71-2893-462f-a943-a83a4fdc5aca"
      }
     }
    },
    "9f1a49d9-bcb1-4fcb-ac33-82339f40418f": {
     "id": "9f1a49d9-bcb1-4fcb-ac33-82339f40418f",
     "prev": "2cfed832-51ec-47fa-acd6-03abb1ce1e11",
     "regions": {
      "d59029f4-9c04-4ef4-9565-74a7099ba45c": {
       "attrs": {
        "height": 0.8,
        "width": 0.8,
        "x": 0.1,
        "y": 0.1
       },
       "content": {
        "cell": "56c40f5a-6ae4-4971-a294-434fc4301143",
        "part": "whole"
       },
       "id": "d59029f4-9c04-4ef4-9565-74a7099ba45c"
      }
     }
    },
    "a1f06ff1-4cba-4f06-be13-9c8c118c8874": {
     "id": "a1f06ff1-4cba-4f06-be13-9c8c118c8874",
     "prev": "ba4d0abf-77b4-46fe-be28-6418268f0c94",
     "regions": {
      "cf8575f2-2e64-4839-8c73-90ed4c2773c7": {
       "attrs": {
        "height": 0.8,
        "width": 0.8,
        "x": 0.1,
        "y": 0.1
       },
       "content": {
        "cell": "add973be-18c6-4fa4-9fb4-b2a6e2064734",
        "part": "whole"
       },
       "id": "cf8575f2-2e64-4839-8c73-90ed4c2773c7"
      }
     }
    },
    "ba4d0abf-77b4-46fe-be28-6418268f0c94": {
     "id": "ba4d0abf-77b4-46fe-be28-6418268f0c94",
     "prev": "f5feabe9-8fc0-4720-9dcc-3b4f619167db",
     "regions": {
      "97f9e225-e5e6-405c-b60e-6061cff234ca": {
       "attrs": {
        "height": 0.8,
        "width": 0.8,
        "x": 0.1,
        "y": 0.1
       },
       "content": {
        "cell": "049c5e56-e0a0-45c4-b99c-c35b975ad0de",
        "part": "whole"
       },
       "id": "97f9e225-e5e6-405c-b60e-6061cff234ca"
      }
     }
    },
    "bcac91ac-a229-43b5-bbcb-6996c69bd0b0": {
     "id": "bcac91ac-a229-43b5-bbcb-6996c69bd0b0",
     "prev": "a1f06ff1-4cba-4f06-be13-9c8c118c8874",
     "regions": {
      "431946ce-0448-4630-80d6-988cee4e8161": {
       "attrs": {
        "height": 0.8,
        "width": 0.8,
        "x": 0.1,
        "y": 0.1
       },
       "content": {
        "cell": "5d51b254-8e35-41e8-b6ba-67fa6f88ebd6",
        "part": "whole"
       },
       "id": "431946ce-0448-4630-80d6-988cee4e8161"
      }
     }
    },
    "dcafeb1c-7f4d-48fc-90d3-64c4257bf56c": {
     "id": "dcafeb1c-7f4d-48fc-90d3-64c4257bf56c",
     "prev": "4d0e0b6e-d429-4d7e-8292-ace77773e512",
     "regions": {
      "be7fc720-9904-4aef-a636-dad5e6ee548a": {
       "attrs": {
        "height": 0.8,
        "width": 0.8,
        "x": 0.1,
        "y": 0.1
       },
       "content": {
        "cell": "c2726afc-1bf8-4641-9bca-b7593e1c1687",
        "part": "whole"
       },
       "id": "be7fc720-9904-4aef-a636-dad5e6ee548a"
      }
     }
    },
    "e1e16051-48fc-4923-b236-62e41c1120c3": {
     "id": "e1e16051-48fc-4923-b236-62e41c1120c3",
     "prev": "853d8e25-f41d-4fb3-93b4-ac3008659d9a",
     "regions": {
      "392f1105-0e8b-4a17-b955-32cb5991a796": {
       "attrs": {
        "height": 0.8,
        "width": 0.8,
        "x": 0.1,
        "y": 0.1
       },
       "content": {
        "cell": "68f1026f-21d5-4176-81c9-874e9e21a511",
        "part": "whole"
       },
       "id": "392f1105-0e8b-4a17-b955-32cb5991a796"
      }
     }
    },
    "e7c8e9ab-eb89-4102-a4b1-baf94d4f1c9a": {
     "id": "e7c8e9ab-eb89-4102-a4b1-baf94d4f1c9a",
     "prev": "3a94a273-c319-4df4-8c6d-8a542f1e68eb",
     "regions": {
      "750f15c4-d82a-4e51-a058-bf66c0a98518": {
       "attrs": {
        "height": 0.8,
        "width": 0.8,
        "x": 0.1,
        "y": 0.1
       },
       "content": {
        "cell": "8d1374b7-810d-40df-a955-df62c2c98064",
        "part": "whole"
       },
       "id": "750f15c4-d82a-4e51-a058-bf66c0a98518"
      }
     }
    },
    "e870ad6e-92a7-4bb3-93f5-23a12e1e13dd": {
     "id": "e870ad6e-92a7-4bb3-93f5-23a12e1e13dd",
     "prev": "e8c93493-9328-4324-a1c2-046ffe57a389",
     "regions": {
      "07df6290-0455-44a6-8c8b-9a8ed4fc0b49": {
       "attrs": {
        "height": 0.8,
        "width": 0.8,
        "x": 0.1,
        "y": 0.1
       },
       "content": {
        "cell": "8ee8aca0-4626-42ed-a6fc-57521122bf58",
        "part": "whole"
       },
       "id": "07df6290-0455-44a6-8c8b-9a8ed4fc0b49"
      }
     }
    },
    "e8c93493-9328-4324-a1c2-046ffe57a389": {
     "id": "e8c93493-9328-4324-a1c2-046ffe57a389",
     "prev": "f89483c2-ad56-4857-9fd3-ed3c60da2797",
     "regions": {
      "369b5fcd-e080-4aef-973e-6555afb3f14f": {
       "attrs": {
        "height": 0.8,
        "width": 0.8,
        "x": 0.1,
        "y": 0.1
       },
       "content": {
        "cell": "5436ae23-8243-41b7-90fa-4ae2194d8e3d",
        "part": "whole"
       },
       "id": "369b5fcd-e080-4aef-973e-6555afb3f14f"
      }
     }
    },
    "f5feabe9-8fc0-4720-9dcc-3b4f619167db": {
     "id": "f5feabe9-8fc0-4720-9dcc-3b4f619167db",
     "prev": "6ddae348-0330-4fea-81b4-9086d85a34d2",
     "regions": {
      "24dbc310-7fc0-4f90-af64-253d646dd351": {
       "attrs": {
        "height": 0.8,
        "width": 0.8,
        "x": 0.1,
        "y": 0.1
       },
       "content": {
        "cell": "820d566f-c7de-4d42-b67c-1df197eb1b6f",
        "part": "whole"
       },
       "id": "24dbc310-7fc0-4f90-af64-253d646dd351"
      }
     }
    },
    "f89483c2-ad56-4857-9fd3-ed3c60da2797": {
     "id": "f89483c2-ad56-4857-9fd3-ed3c60da2797",
     "prev": "6cc9323d-1b67-452f-9e3f-04d3f41bf5ae",
     "regions": {
      "aa8c4df1-f895-4385-a582-bda60ba11493": {
       "attrs": {
        "height": 0.8,
        "width": 0.8,
        "x": 0.1,
        "y": 0.1
       },
       "content": {
        "cell": "0ab7d10f-d03b-4185-9d6e-225fe24f7660",
        "part": "whole"
       },
       "id": "aa8c4df1-f895-4385-a582-bda60ba11493"
      }
     }
    }
   },
   "themes": {
    "default": "69dbb811-fc26-4203-983a-6d144f96e861",
    "theme": {
     "68164450-bbe9-460e-965b-a83a44cb78a2": {
      "backgrounds": {
       "dc7afa04-bf90-40b1-82a5-726e3cff5267": {
        "background-color": "31af15d2-7e15-44c5-ab5e-e04b16a89eff",
        "id": "dc7afa04-bf90-40b1-82a5-726e3cff5267"
       }
      },
      "id": "68164450-bbe9-460e-965b-a83a44cb78a2",
      "palette": {
       "19cc588f-0593-49c9-9f4b-e4d7cc113b1c": {
        "id": "19cc588f-0593-49c9-9f4b-e4d7cc113b1c",
        "rgb": [
         252,
         252,
         252
        ]
       },
       "31af15d2-7e15-44c5-ab5e-e04b16a89eff": {
        "id": "31af15d2-7e15-44c5-ab5e-e04b16a89eff",
        "rgb": [
         68,
         68,
         68
        ]
       },
       "50f92c45-a630-455b-aec3-788680ec7410": {
        "id": "50f92c45-a630-455b-aec3-788680ec7410",
        "rgb": [
         197,
         226,
         245
        ]
       },
       "c5cc3653-2ee1-402a-aba2-7caae1da4f6c": {
        "id": "c5cc3653-2ee1-402a-aba2-7caae1da4f6c",
        "rgb": [
         43,
         126,
         184
        ]
       },
       "efa7f048-9acb-414c-8b04-a26811511a21": {
        "id": "efa7f048-9acb-414c-8b04-a26811511a21",
        "rgb": [
         25.118061674008803,
         73.60176211453744,
         107.4819383259912
        ]
       }
      },
      "rules": {
       "a": {
        "color": "19cc588f-0593-49c9-9f4b-e4d7cc113b1c"
       },
       "blockquote": {
        "color": "50f92c45-a630-455b-aec3-788680ec7410",
        "font-size": 3
       },
       "code": {
        "font-family": "Anonymous Pro"
       },
       "h1": {
        "color": "19cc588f-0593-49c9-9f4b-e4d7cc113b1c",
        "font-family": "Merriweather",
        "font-size": 8
       },
       "h2": {
        "color": "19cc588f-0593-49c9-9f4b-e4d7cc113b1c",
        "font-family": "Merriweather",
        "font-size": 6
       },
       "h3": {
        "color": "50f92c45-a630-455b-aec3-788680ec7410",
        "font-family": "Lato",
        "font-size": 5.5
       },
       "h4": {
        "color": "c5cc3653-2ee1-402a-aba2-7caae1da4f6c",
        "font-family": "Lato",
        "font-size": 5
       },
       "h5": {
        "font-family": "Lato"
       },
       "h6": {
        "font-family": "Lato"
       },
       "h7": {
        "font-family": "Lato"
       },
       "li": {
        "color": "50f92c45-a630-455b-aec3-788680ec7410",
        "font-size": 3.25
       },
       "pre": {
        "font-family": "Anonymous Pro",
        "font-size": 4
       }
      },
      "text-base": {
       "color": "19cc588f-0593-49c9-9f4b-e4d7cc113b1c",
       "font-family": "Lato",
       "font-size": 4
      }
     },
     "69dbb811-fc26-4203-983a-6d144f96e861": {
      "id": "69dbb811-fc26-4203-983a-6d144f96e861",
      "palette": {
       "19cc588f-0593-49c9-9f4b-e4d7cc113b1c": {
        "id": "19cc588f-0593-49c9-9f4b-e4d7cc113b1c",
        "rgb": [
         252,
         252,
         252
        ]
       },
       "31af15d2-7e15-44c5-ab5e-e04b16a89eff": {
        "id": "31af15d2-7e15-44c5-ab5e-e04b16a89eff",
        "rgb": [
         68,
         68,
         68
        ]
       },
       "50f92c45-a630-455b-aec3-788680ec7410": {
        "id": "50f92c45-a630-455b-aec3-788680ec7410",
        "rgb": [
         155,
         177,
         192
        ]
       },
       "c5cc3653-2ee1-402a-aba2-7caae1da4f6c": {
        "id": "c5cc3653-2ee1-402a-aba2-7caae1da4f6c",
        "rgb": [
         43,
         126,
         184
        ]
       },
       "efa7f048-9acb-414c-8b04-a26811511a21": {
        "id": "efa7f048-9acb-414c-8b04-a26811511a21",
        "rgb": [
         25.118061674008803,
         73.60176211453744,
         107.4819383259912
        ]
       }
      },
      "rules": {
       "blockquote": {
        "color": "50f92c45-a630-455b-aec3-788680ec7410"
       },
       "code": {
        "font-family": "Anonymous Pro"
       },
       "h1": {
        "color": "c5cc3653-2ee1-402a-aba2-7caae1da4f6c",
        "font-family": "Lato",
        "font-size": 8
       },
       "h2": {
        "color": "c5cc3653-2ee1-402a-aba2-7caae1da4f6c",
        "font-family": "Lato",
        "font-size": 6
       },
       "h3": {
        "color": "50f92c45-a630-455b-aec3-788680ec7410",
        "font-family": "Lato",
        "font-size": 5.5
       },
       "h4": {
        "color": "c5cc3653-2ee1-402a-aba2-7caae1da4f6c",
        "font-family": "Lato",
        "font-size": 5
       },
       "h5": {
        "font-family": "Lato"
       },
       "h6": {
        "font-family": "Lato"
       },
       "h7": {
        "font-family": "Lato"
       },
       "pre": {
        "font-family": "Anonymous Pro",
        "font-size": 4
       }
      },
      "text-base": {
       "font-family": "Merriweather",
       "font-size": 4
      }
     },
     "cd9d7f0f-3781-45dd-afce-1b7712e13467": {
      "backgrounds": {
       "backgroundColor": {
        "background-color": "backgroundColor",
        "id": "backgroundColor"
       }
      },
      "id": "cd9d7f0f-3781-45dd-afce-1b7712e13467",
      "palette": {
       "backgroundColor": {
        "id": "backgroundColor",
        "rgb": [
         256,
         256,
         256
        ]
       },
       "headingColor": {
        "id": "headingColor",
        "rgb": [
         0,
         0,
         0
        ]
       },
       "linkColor": {
        "id": "linkColor",
        "rgb": [
         0,
         0,
         139
        ]
       },
       "mainColor": {
        "id": "mainColor",
        "rgb": [
         0,
         0,
         0
        ]
       }
      },
      "rules": {
       "a": {
        "color": "linkColor"
       },
       "h1": {
        "color": "headingColor",
        "font-family": "News Cycle",
        "font-size": 7
       },
       "h2": {
        "color": "headingColor",
        "font-family": "News Cycle",
        "font-size": 5
       },
       "h3": {
        "color": "headingColor",
        "font-family": "News Cycle",
        "font-size": 3.75
       },
       "h4": {
        "color": "headingColor",
        "font-family": "News Cycle",
        "font-size": 3
       },
       "h5": {
        "color": "headingColor",
        "font-family": "News Cycle"
       },
       "h6": {
        "color": "headingColor",
        "font-family": "News Cycle"
       },
       "h7": {
        "color": "headingColor",
        "font-family": "News Cycle"
       },
       "li": {
        "color": "mainColor",
        "font-family": "Lato",
        "font-size": 5
       },
       "p": {
        "color": "mainColor",
        "font-family": "Lato",
        "font-size": 5
       }
      },
      "text-base": {
       "color": "mainColor",
       "font-family": "Lato",
       "font-size": 5
      }
     },
     "e3e3adf5-9e47-4dee-822e-a8d54764b213": {
      "id": "e3e3adf5-9e47-4dee-822e-a8d54764b213",
      "palette": {
       "19cc588f-0593-49c9-9f4b-e4d7cc113b1c": {
        "id": "19cc588f-0593-49c9-9f4b-e4d7cc113b1c",
        "rgb": [
         252,
         252,
         252
        ]
       },
       "31af15d2-7e15-44c5-ab5e-e04b16a89eff": {
        "id": "31af15d2-7e15-44c5-ab5e-e04b16a89eff",
        "rgb": [
         68,
         68,
         68
        ]
       },
       "50f92c45-a630-455b-aec3-788680ec7410": {
        "id": "50f92c45-a630-455b-aec3-788680ec7410",
        "rgb": [
         155,
         177,
         192
        ]
       },
       "c5cc3653-2ee1-402a-aba2-7caae1da4f6c": {
        "id": "c5cc3653-2ee1-402a-aba2-7caae1da4f6c",
        "rgb": [
         43,
         126,
         184
        ]
       },
       "efa7f048-9acb-414c-8b04-a26811511a21": {
        "id": "efa7f048-9acb-414c-8b04-a26811511a21",
        "rgb": [
         25.118061674008803,
         73.60176211453744,
         107.4819383259912
        ]
       }
      },
      "rules": {
       "blockquote": {
        "color": "50f92c45-a630-455b-aec3-788680ec7410"
       },
       "code": {
        "font-family": "Anonymous Pro"
       },
       "h1": {
        "color": "c5cc3653-2ee1-402a-aba2-7caae1da4f6c",
        "font-family": "Lato",
        "font-size": 8
       },
       "h2": {
        "color": "c5cc3653-2ee1-402a-aba2-7caae1da4f6c",
        "font-family": "Lato",
        "font-size": 6
       },
       "h3": {
        "color": "50f92c45-a630-455b-aec3-788680ec7410",
        "font-family": "Lato",
        "font-size": 5.5
       },
       "h4": {
        "color": "c5cc3653-2ee1-402a-aba2-7caae1da4f6c",
        "font-family": "Lato",
        "font-size": 5
       },
       "h5": {
        "font-family": "Lato"
       },
       "h6": {
        "font-family": "Lato"
       },
       "h7": {
        "font-family": "Lato"
       },
       "pre": {
        "font-family": "Anonymous Pro",
        "font-size": 4
       }
      },
      "text-base": {
       "font-family": "Merriweather",
       "font-size": 4
      }
     }
    }
   }
  }
 },
 "nbformat": 4,
 "nbformat_minor": 0
}
